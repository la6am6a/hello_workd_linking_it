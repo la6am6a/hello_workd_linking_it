{
 "cells": [
  {
   "cell_type": "code",
   "execution_count": 2,
   "metadata": {},
   "outputs": [],
   "source": [
    "import webbrowser\n",
    "from googleapiclient.discovery import build\n",
    "from googleapiclient.errors import HttpError\n",
    "from oauth2client import file, client, tools"
   ]
  },
  {
   "cell_type": "code",
   "execution_count": null,
   "metadata": {},
   "outputs": [],
   "source": [
    "# Authenticate and construct the service object\n",
    "import os\n",
    "client_secret_path = os.path.join(os.getcwd(), 'client_secret.json')\n",
    "flow = client.flow_from_clientsecrets(client_secret_path, SCOPES)\n",
    "\n",
    "SCOPES = 'https://www.googleapis.com/auth/spreadsheets.readonly'\n",
    "store = file.Storage('credentials.json')\n",
    "creds = store.get()\n",
    "if not creds or creds.invalid:\n",
    "    flow = client.flow_from_clientsecrets('client_secret.json', SCOPES)\n",
    "    creds = tools.run_flow(flow, store)\n",
    "service = build('sheets', 'v4', http=creds.authorize(Http()))"
   ]
  },
  {
   "cell_type": "code",
   "execution_count": null,
   "metadata": {},
   "outputs": [],
   "source": []
  },
  {
   "cell_type": "code",
   "execution_count": null,
   "metadata": {},
   "outputs": [],
   "source": [
    "# Define the chart data and options\n",
    "chart_data = {\n",
    "    'cols': [\n",
    "        {'id': 'from', 'label': 'From', 'type': 'string'},\n",
    "        {'id': 'to', 'label': 'To', 'type': 'string'},\n",
    "        {'id': 'weight', 'label': 'Weight', 'type': 'number'}\n",
    "    ],\n",
    "    'rows': [\n",
    "        {'c': [{'v': 'A'}, {'v': 'X'}, {'v': 5}]},\n",
    "        {'c': [{'v': 'A'}, {'v': 'Y'}, {'v': 7}]},\n",
    "        {'c': [{'v': 'A'}, {'v': 'Z'}, {'v': 6}]},\n",
    "        {'c': [{'v': 'B'}, {'v': 'X'}, {'v': 2}]},\n",
    "        {'c': [{'v': 'B'}, {'v': 'Y'}, {'v': 9}]},\n",
    "        {'c': [{'v': 'B'}, {'v': 'Z'}, {'v': 4}]}\n",
    "    ]\n",
    "}\n",
    "chart_options = {\n",
    "    'width': 600\n",
    "}"
   ]
  },
  {
   "cell_type": "code",
   "execution_count": null,
   "metadata": {},
   "outputs": [],
   "source": [
    "# Create and display the chart\n",
    "chart = {\n",
    "    'chart': {\n",
    "        'type': 'sankey',\n",
    "        'data': chart_data,\n",
    "        'options': chart_options\n",
    "    }\n",
    "}\n",
    "webbrowser.open('https://developers.google.com/chart/interactive/docs/gallery/sankey', new=2)"
   ]
  }
 ],
 "metadata": {
  "kernelspec": {
   "display_name": "tytorial_geosio",
   "language": "python",
   "name": "python3"
  },
  "language_info": {
   "codemirror_mode": {
    "name": "ipython",
    "version": 3
   },
   "file_extension": ".py",
   "mimetype": "text/x-python",
   "name": "python",
   "nbconvert_exporter": "python",
   "pygments_lexer": "ipython3",
   "version": "3.9.13"
  },
  "orig_nbformat": 4
 },
 "nbformat": 4,
 "nbformat_minor": 2
}
